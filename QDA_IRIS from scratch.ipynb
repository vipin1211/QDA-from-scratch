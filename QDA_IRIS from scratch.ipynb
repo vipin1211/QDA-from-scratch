{
 "cells": [
  {
   "cell_type": "markdown",
   "metadata": {
    "colab_type": "text",
    "id": "1DZwoZa8MvzD"
   },
   "source": [
    "# In this notebook we will explore Quadratic Discriminant Analysis (QDA) in 2D using iris dataset\n",
    "\n",
    "Credit:\n",
    "\n",
    "Images are from wikimedia.org"
   ]
  },
  {
   "cell_type": "markdown",
   "metadata": {
    "colab_type": "text",
    "id": "2OvqFEbqMvzI"
   },
   "source": [
    "## iris virginica\n",
    "\n",
    "<img src=\"https://upload.wikimedia.org/wikipedia/commons/2/27/Southern_Blue_Flag_Iris_%28iris_virginica%29_-_Flickr_-_Andrea_Westmoreland.jpg\" alt=\"Smiley face\" height=\"400\"  width=\"400\">\n",
    "\n",
    "## Iris versicolor\n",
    "\n",
    "<img src=\"https://upload.wikimedia.org/wikipedia/commons/4/41/Iris_versicolor_3.jpg\" alt=\"Smiley face\" height=\"400\"  width=\"400\">\n",
    "\n",
    "## Iris setosa\n",
    "\n",
    "<img src=\"https://upload.wikimedia.org/wikipedia/commons/1/11/Iris_setosa_2.jpg\" alt=\"Smiley face\" height=\"400\"  width=\"400\">\n"
   ]
  },
  {
   "cell_type": "markdown",
   "metadata": {
    "colab_type": "text",
    "id": "LCCEaUG5MvzK"
   },
   "source": [
    "## Let's download dataset $\\mathcal{D} = \\{(\\mathbf{x_i}, y_i) \\}_{i=1}^{N}$ containing features $\\mathbf{x_i}$ of these flowers $y_i$ from UCI machine learning repository"
   ]
  },
  {
   "cell_type": "code",
   "execution_count": 0,
   "metadata": {
    "colab": {},
    "colab_type": "code",
    "id": "zFeNX4D6MvzL"
   },
   "outputs": [],
   "source": [
    "# May have to install seaborn\n",
    "#!pip install seaborn"
   ]
  },
  {
   "cell_type": "code",
   "execution_count": 1,
   "metadata": {
    "colab": {},
    "colab_type": "code",
    "id": "WtX0IJjoMvzR"
   },
   "outputs": [
    {
     "name": "stderr",
     "output_type": "stream",
     "text": [
      "C:\\Users\\18482\\Anaconda3\\lib\\site-packages\\statsmodels\\tools\\_testing.py:19: FutureWarning: pandas.util.testing is deprecated. Use the functions in the public API at pandas.testing instead.\n",
      "  import pandas.util.testing as tm\n"
     ]
    }
   ],
   "source": [
    "import pandas as pd # for doing eploratory data analysis\n",
    "import seaborn as sns # statistical visualization\n",
    "import matplotlib.pyplot as plt\n",
    "from sklearn import model_selection\n",
    "import numpy as np\n",
    "# to make graphics inline\n",
    "%matplotlib inline \n",
    "sns.set()"
   ]
  },
  {
   "cell_type": "markdown",
   "metadata": {
    "colab_type": "text",
    "id": "aaGpqT7vMvzX"
   },
   "source": [
    "# using pandas read_csv and naming our columns"
   ]
  },
  {
   "cell_type": "code",
   "execution_count": 3,
   "metadata": {
    "colab": {},
    "colab_type": "code",
    "id": "Yjcei0cLMvzZ"
   },
   "outputs": [],
   "source": [
    "url = \"https://archive.ics.uci.edu/ml/machine-learning-databases/iris/iris.data\"\n",
    "names = ['sepal_length', 'sepal_width', 'petal_length', 'petal_width', 'class']\n",
    "iris_df = pd.read_csv(url, names=names)"
   ]
  },
  {
   "cell_type": "markdown",
   "metadata": {
    "colab_type": "text",
    "id": "GVpIQhBkMvze"
   },
   "source": [
    "# Let's randomly sample 5 observation"
   ]
  },
  {
   "cell_type": "code",
   "execution_count": 4,
   "metadata": {
    "colab": {},
    "colab_type": "code",
    "id": "Ts1YKm6vMvzg",
    "outputId": "dca429a5-d55d-4b7a-e587-107f6a3d467b"
   },
   "outputs": [
    {
     "data": {
      "text/html": [
       "<div>\n",
       "<style scoped>\n",
       "    .dataframe tbody tr th:only-of-type {\n",
       "        vertical-align: middle;\n",
       "    }\n",
       "\n",
       "    .dataframe tbody tr th {\n",
       "        vertical-align: top;\n",
       "    }\n",
       "\n",
       "    .dataframe thead th {\n",
       "        text-align: right;\n",
       "    }\n",
       "</style>\n",
       "<table border=\"1\" class=\"dataframe\">\n",
       "  <thead>\n",
       "    <tr style=\"text-align: right;\">\n",
       "      <th></th>\n",
       "      <th>sepal_length</th>\n",
       "      <th>sepal_width</th>\n",
       "      <th>petal_length</th>\n",
       "      <th>petal_width</th>\n",
       "      <th>class</th>\n",
       "    </tr>\n",
       "  </thead>\n",
       "  <tbody>\n",
       "    <tr>\n",
       "      <th>77</th>\n",
       "      <td>6.7</td>\n",
       "      <td>3.0</td>\n",
       "      <td>5.0</td>\n",
       "      <td>1.7</td>\n",
       "      <td>Iris-versicolor</td>\n",
       "    </tr>\n",
       "    <tr>\n",
       "      <th>72</th>\n",
       "      <td>6.3</td>\n",
       "      <td>2.5</td>\n",
       "      <td>4.9</td>\n",
       "      <td>1.5</td>\n",
       "      <td>Iris-versicolor</td>\n",
       "    </tr>\n",
       "    <tr>\n",
       "      <th>143</th>\n",
       "      <td>6.8</td>\n",
       "      <td>3.2</td>\n",
       "      <td>5.9</td>\n",
       "      <td>2.3</td>\n",
       "      <td>Iris-virginica</td>\n",
       "    </tr>\n",
       "    <tr>\n",
       "      <th>0</th>\n",
       "      <td>5.1</td>\n",
       "      <td>3.5</td>\n",
       "      <td>1.4</td>\n",
       "      <td>0.2</td>\n",
       "      <td>Iris-setosa</td>\n",
       "    </tr>\n",
       "    <tr>\n",
       "      <th>5</th>\n",
       "      <td>5.4</td>\n",
       "      <td>3.9</td>\n",
       "      <td>1.7</td>\n",
       "      <td>0.4</td>\n",
       "      <td>Iris-setosa</td>\n",
       "    </tr>\n",
       "  </tbody>\n",
       "</table>\n",
       "</div>"
      ],
      "text/plain": [
       "     sepal_length  sepal_width  petal_length  petal_width            class\n",
       "77            6.7          3.0           5.0          1.7  Iris-versicolor\n",
       "72            6.3          2.5           4.9          1.5  Iris-versicolor\n",
       "143           6.8          3.2           5.9          2.3   Iris-virginica\n",
       "0             5.1          3.5           1.4          0.2      Iris-setosa\n",
       "5             5.4          3.9           1.7          0.4      Iris-setosa"
      ]
     },
     "execution_count": 4,
     "metadata": {},
     "output_type": "execute_result"
    }
   ],
   "source": [
    "iris_df.sample(5)# randomly looking at five samples"
   ]
  },
  {
   "cell_type": "markdown",
   "metadata": {
    "colab_type": "text",
    "id": "JR_Xx02tMvzw"
   },
   "source": [
    "# Statistical Summary and data sanity check\n"
   ]
  },
  {
   "cell_type": "code",
   "execution_count": 5,
   "metadata": {
    "colab": {},
    "colab_type": "code",
    "id": "JMxSqPFxMvzy"
   },
   "outputs": [
    {
     "data": {
      "text/plain": [
       "sepal_length    False\n",
       "sepal_width     False\n",
       "petal_length    False\n",
       "petal_width     False\n",
       "class           False\n",
       "dtype: bool"
      ]
     },
     "execution_count": 5,
     "metadata": {},
     "output_type": "execute_result"
    }
   ],
   "source": [
    "# just to make sure values in different columns are not missing\n",
    "iris_df.isnull().any()"
   ]
  },
  {
   "cell_type": "markdown",
   "metadata": {
    "colab_type": "text",
    "id": "FBLgfpPPMvz8"
   },
   "source": [
    "## As per the above output none of the columns have  any null value"
   ]
  },
  {
   "cell_type": "code",
   "execution_count": 6,
   "metadata": {
    "colab": {},
    "colab_type": "code",
    "id": "dmC7lakWMvz_",
    "scrolled": true
   },
   "outputs": [
    {
     "data": {
      "text/plain": [
       "sepal_length    float64\n",
       "sepal_width     float64\n",
       "petal_length    float64\n",
       "petal_width     float64\n",
       "class            object\n",
       "dtype: object"
      ]
     },
     "execution_count": 6,
     "metadata": {},
     "output_type": "execute_result"
    }
   ],
   "source": [
    "# Making sure datatype is also good, so that relevant algebra on columns make sense\n",
    "iris_df.dtypes"
   ]
  },
  {
   "cell_type": "markdown",
   "metadata": {
    "colab_type": "text",
    "id": "5fv4_uKiMv0H"
   },
   "source": [
    "Class type is object(string). Down the line, we need to convert it to integer label"
   ]
  },
  {
   "cell_type": "markdown",
   "metadata": {
    "colab_type": "text",
    "id": "1ClTjOELMv0J"
   },
   "source": [
    "### The goal in any machine learning task is to do well on future data so let's split our data into train and test using sklearn."
   ]
  },
  {
   "cell_type": "code",
   "execution_count": 7,
   "metadata": {
    "colab": {},
    "colab_type": "code",
    "id": "tZBrtxMPMv0L"
   },
   "outputs": [],
   "source": [
    "validation_size = 0.32\n",
    "seed = 3\n",
    "#np.random.seed(3)\n",
    "from sklearn.model_selection import train_test_split\n",
    "train_df, test_df = train_test_split(iris_df,test_size=validation_size,random_state=seed)"
   ]
  },
  {
   "cell_type": "code",
   "execution_count": 8,
   "metadata": {
    "colab": {},
    "colab_type": "code",
    "id": "ny3Bsj7ZMv0Q"
   },
   "outputs": [
    {
     "name": "stdout",
     "output_type": "stream",
     "text": [
      "total training observation (102, 5)\n",
      "total teasting observation (48, 5)\n"
     ]
    },
    {
     "data": {
      "text/html": [
       "<div>\n",
       "<style scoped>\n",
       "    .dataframe tbody tr th:only-of-type {\n",
       "        vertical-align: middle;\n",
       "    }\n",
       "\n",
       "    .dataframe tbody tr th {\n",
       "        vertical-align: top;\n",
       "    }\n",
       "\n",
       "    .dataframe thead th {\n",
       "        text-align: right;\n",
       "    }\n",
       "</style>\n",
       "<table border=\"1\" class=\"dataframe\">\n",
       "  <thead>\n",
       "    <tr style=\"text-align: right;\">\n",
       "      <th></th>\n",
       "      <th>sepal_length</th>\n",
       "      <th>sepal_width</th>\n",
       "      <th>petal_length</th>\n",
       "      <th>petal_width</th>\n",
       "      <th>class</th>\n",
       "    </tr>\n",
       "  </thead>\n",
       "  <tbody>\n",
       "    <tr>\n",
       "      <th>142</th>\n",
       "      <td>5.8</td>\n",
       "      <td>2.7</td>\n",
       "      <td>5.1</td>\n",
       "      <td>1.9</td>\n",
       "      <td>Iris-virginica</td>\n",
       "    </tr>\n",
       "    <tr>\n",
       "      <th>84</th>\n",
       "      <td>5.4</td>\n",
       "      <td>3.0</td>\n",
       "      <td>4.5</td>\n",
       "      <td>1.5</td>\n",
       "      <td>Iris-versicolor</td>\n",
       "    </tr>\n",
       "    <tr>\n",
       "      <th>45</th>\n",
       "      <td>4.8</td>\n",
       "      <td>3.0</td>\n",
       "      <td>1.4</td>\n",
       "      <td>0.3</td>\n",
       "      <td>Iris-setosa</td>\n",
       "    </tr>\n",
       "    <tr>\n",
       "      <th>35</th>\n",
       "      <td>5.0</td>\n",
       "      <td>3.2</td>\n",
       "      <td>1.2</td>\n",
       "      <td>0.2</td>\n",
       "      <td>Iris-setosa</td>\n",
       "    </tr>\n",
       "    <tr>\n",
       "      <th>101</th>\n",
       "      <td>5.8</td>\n",
       "      <td>2.7</td>\n",
       "      <td>5.1</td>\n",
       "      <td>1.9</td>\n",
       "      <td>Iris-virginica</td>\n",
       "    </tr>\n",
       "  </tbody>\n",
       "</table>\n",
       "</div>"
      ],
      "text/plain": [
       "     sepal_length  sepal_width  petal_length  petal_width            class\n",
       "142           5.8          2.7           5.1          1.9   Iris-virginica\n",
       "84            5.4          3.0           4.5          1.5  Iris-versicolor\n",
       "45            4.8          3.0           1.4          0.3      Iris-setosa\n",
       "35            5.0          3.2           1.2          0.2      Iris-setosa\n",
       "101           5.8          2.7           5.1          1.9   Iris-virginica"
      ]
     },
     "execution_count": 8,
     "metadata": {},
     "output_type": "execute_result"
    }
   ],
   "source": [
    "print('total training observation {}'.format(train_df.shape))\n",
    "print('total teasting observation {}'.format(test_df.shape))\n",
    "train_df.head()"
   ]
  },
  {
   "cell_type": "markdown",
   "metadata": {
    "colab_type": "text",
    "id": "OBYbh5mQMv0U"
   },
   "source": [
    "# Hence ignoring the class label, we have 4 features for each type of flower"
   ]
  },
  {
   "cell_type": "markdown",
   "metadata": {
    "colab_type": "text",
    "id": "0VbsthFDMv0V"
   },
   "source": [
    "## Let's see how many flowers per class"
   ]
  },
  {
   "cell_type": "code",
   "execution_count": 9,
   "metadata": {
    "colab": {},
    "colab_type": "code",
    "id": "sWeaGLdzMv0W"
   },
   "outputs": [
    {
     "data": {
      "text/plain": [
       "class\n",
       "Iris-setosa        32\n",
       "Iris-versicolor    34\n",
       "Iris-virginica     36\n",
       "Name: class, dtype: int64"
      ]
     },
     "execution_count": 9,
     "metadata": {},
     "output_type": "execute_result"
    }
   ],
   "source": [
    "train_df.groupby('class')['class'].count()"
   ]
  },
  {
   "cell_type": "markdown",
   "metadata": {
    "colab_type": "text",
    "id": "ONeyLqz1Mv0b"
   },
   "source": [
    "## So we have almost equal examples in each class. Class imbalance is not a big issue but let's still take care of it(We need to estimate class prior probability)"
   ]
  },
  {
   "cell_type": "code",
   "execution_count": 10,
   "metadata": {
    "colab": {},
    "colab_type": "code",
    "id": "IvSRylVyMv0c"
   },
   "outputs": [
    {
     "data": {
      "text/html": [
       "<div>\n",
       "<style scoped>\n",
       "    .dataframe tbody tr th:only-of-type {\n",
       "        vertical-align: middle;\n",
       "    }\n",
       "\n",
       "    .dataframe tbody tr th {\n",
       "        vertical-align: top;\n",
       "    }\n",
       "\n",
       "    .dataframe thead th {\n",
       "        text-align: right;\n",
       "    }\n",
       "</style>\n",
       "<table border=\"1\" class=\"dataframe\">\n",
       "  <thead>\n",
       "    <tr style=\"text-align: right;\">\n",
       "      <th></th>\n",
       "      <th>sepal_length</th>\n",
       "      <th>sepal_width</th>\n",
       "      <th>petal_length</th>\n",
       "      <th>petal_width</th>\n",
       "    </tr>\n",
       "  </thead>\n",
       "  <tbody>\n",
       "    <tr>\n",
       "      <th>count</th>\n",
       "      <td>102.000000</td>\n",
       "      <td>102.000000</td>\n",
       "      <td>102.000000</td>\n",
       "      <td>102.000000</td>\n",
       "    </tr>\n",
       "    <tr>\n",
       "      <th>mean</th>\n",
       "      <td>5.857843</td>\n",
       "      <td>3.068627</td>\n",
       "      <td>3.828431</td>\n",
       "      <td>1.219608</td>\n",
       "    </tr>\n",
       "    <tr>\n",
       "      <th>std</th>\n",
       "      <td>0.797203</td>\n",
       "      <td>0.425192</td>\n",
       "      <td>1.746531</td>\n",
       "      <td>0.762232</td>\n",
       "    </tr>\n",
       "    <tr>\n",
       "      <th>min</th>\n",
       "      <td>4.300000</td>\n",
       "      <td>2.000000</td>\n",
       "      <td>1.100000</td>\n",
       "      <td>0.100000</td>\n",
       "    </tr>\n",
       "    <tr>\n",
       "      <th>25%</th>\n",
       "      <td>5.100000</td>\n",
       "      <td>2.800000</td>\n",
       "      <td>1.600000</td>\n",
       "      <td>0.300000</td>\n",
       "    </tr>\n",
       "    <tr>\n",
       "      <th>50%</th>\n",
       "      <td>5.750000</td>\n",
       "      <td>3.000000</td>\n",
       "      <td>4.400000</td>\n",
       "      <td>1.300000</td>\n",
       "    </tr>\n",
       "    <tr>\n",
       "      <th>75%</th>\n",
       "      <td>6.400000</td>\n",
       "      <td>3.300000</td>\n",
       "      <td>5.100000</td>\n",
       "      <td>1.800000</td>\n",
       "    </tr>\n",
       "    <tr>\n",
       "      <th>max</th>\n",
       "      <td>7.900000</td>\n",
       "      <td>4.200000</td>\n",
       "      <td>6.700000</td>\n",
       "      <td>2.500000</td>\n",
       "    </tr>\n",
       "  </tbody>\n",
       "</table>\n",
       "</div>"
      ],
      "text/plain": [
       "       sepal_length  sepal_width  petal_length  petal_width\n",
       "count    102.000000   102.000000    102.000000   102.000000\n",
       "mean       5.857843     3.068627      3.828431     1.219608\n",
       "std        0.797203     0.425192      1.746531     0.762232\n",
       "min        4.300000     2.000000      1.100000     0.100000\n",
       "25%        5.100000     2.800000      1.600000     0.300000\n",
       "50%        5.750000     3.000000      4.400000     1.300000\n",
       "75%        6.400000     3.300000      5.100000     1.800000\n",
       "max        7.900000     4.200000      6.700000     2.500000"
      ]
     },
     "execution_count": 10,
     "metadata": {},
     "output_type": "execute_result"
    }
   ],
   "source": [
    "train_df.describe()"
   ]
  },
  {
   "cell_type": "markdown",
   "metadata": {
    "colab_type": "text",
    "id": "p0zbxdQTMv0f"
   },
   "source": [
    "As per above summary most the real values featues are clustered around their mean value"
   ]
  },
  {
   "cell_type": "markdown",
   "metadata": {
    "colab_type": "text",
    "id": "LvmtXff2Mv0i"
   },
   "source": [
    "## Let's visualize features to find 2 most discriminative one as we want to model class conditional densities using 2D gaussian."
   ]
  },
  {
   "cell_type": "markdown",
   "metadata": {
    "colab_type": "text",
    "id": "2SiKKQ6mMv0m"
   },
   "source": [
    "**We can use matplotlib to do scatter plot(kind of Multivariate Plot) to see which features are most discriminative one but seaborn draws attractive statistical graph and we can focus more time on our main objective(find 2 most discriminative one )**"
   ]
  },
  {
   "cell_type": "code",
   "execution_count": 12,
   "metadata": {
    "colab": {},
    "colab_type": "code",
    "id": "RIMM07xFMv0o",
    "scrolled": true
   },
   "outputs": [
    {
     "data": {
      "image/png": "[encoded data removed]",
      "text/plain": [
       "<Figure size 825.225x720 with 20 Axes>"
      ]
     },
     "metadata": {
      "needs_background": "light"
     },
     "output_type": "display_data"
    }
   ],
   "source": [
    "sns.pairplot(train_df, hue=\"class\");"
   ]
  },
  {
   "cell_type": "markdown",
   "metadata": {
    "colab_type": "text",
    "id": "Vpvdfv9AMv0s"
   },
   "source": [
    "## pairplot,  plots scatter plot off diagonal and histogram(1 d distribution) of various attributes in diagonal.\n",
    "\n",
    "Scatter plot gives a vague idea of the 2D distribution of the corresponding features. Points gets plotted on top of each other and distribution of the points may not be clear."
   ]
  },
  {
   "cell_type": "markdown",
   "metadata": {
    "colab_type": "text",
    "id": "4lM95I7iMv0u"
   },
   "source": [
    "# Looks like any two pair of raw features can't classify flowers perfectly\n",
    "\n",
    "As we want to explore 2D QDA, let's choose **petal length and petal width**\n"
   ]
  },
  {
   "cell_type": "markdown",
   "metadata": {
    "colab_type": "text",
    "id": "3vfEGhE6Mv0w"
   },
   "source": [
    "## Following figures gives much better idea of density although it is fitted density"
   ]
  },
  {
   "cell_type": "code",
   "execution_count": 13,
   "metadata": {
    "colab": {},
    "colab_type": "code",
    "id": "aFfQjVDhMv0x"
   },
   "outputs": [
    {
     "name": "stdout",
     "output_type": "stream",
     "text": [
      "Iris-setosa \n",
      "\n"
     ]
    },
    {
     "data": {
      "image/png": "[encoded data removed]",
      "text/plain": [
       "<Figure size 432x432 with 3 Axes>"
      ]
     },
     "metadata": {
      "needs_background": "light"
     },
     "output_type": "display_data"
    },
    {
     "name": "stdout",
     "output_type": "stream",
     "text": [
      "Iris-versicolor \n",
      "\n"
     ]
    },
    {
     "data": {
      "image/png": "[encoded data removed]",
      "text/plain": [
       "<Figure size 432x432 with 3 Axes>"
      ]
     },
     "metadata": {
      "needs_background": "light"
     },
     "output_type": "display_data"
    },
    {
     "name": "stdout",
     "output_type": "stream",
     "text": [
      "Iris-virginica \n",
      "\n"
     ]
    },
    {
     "data": {
      "image/png": "[encoded data removed]",
      "text/plain": [
       "<Figure size 432x432 with 3 Axes>"
      ]
     },
     "metadata": {
      "needs_background": "light"
     },
     "output_type": "display_data"
    }
   ],
   "source": [
    "for class_name, per_class_df in train_df.groupby('class'):\n",
    "    print('{} \\n'.format(class_name))\n",
    "    sns.jointplot(x= 'petal_length', y = 'petal_width',kind='kde' , data = per_class_df)\n",
    "    plt.show()\n",
    "#train_df.hist(by= 'class', figsize = (10, 10))"
   ]
  },
  {
   "cell_type": "markdown",
   "metadata": {
    "colab_type": "text",
    "id": "qzinrCBtMv02"
   },
   "source": [
    "# As we want to work with only 2 features(petal_lenght, petal_width), we need to select only these column from training and test dataset"
   ]
  },
  {
   "cell_type": "code",
   "execution_count": 14,
   "metadata": {
    "colab": {},
    "colab_type": "code",
    "id": "sLeRgT-xMv03"
   },
   "outputs": [],
   "source": [
    "X_train = train_df[['petal_length', 'petal_width']].values\n",
    "y_train = train_df['class']\n",
    "X_test = test_df[['petal_length', 'petal_width']].values\n",
    "y_test = test_df['class']"
   ]
  },
  {
   "cell_type": "code",
   "execution_count": 15,
   "metadata": {
    "colab": {},
    "colab_type": "code",
    "id": "6I4-3-AfMv08"
   },
   "outputs": [
    {
     "data": {
      "text/plain": [
       "((102, 2),\n",
       " (102,),\n",
       " (48, 2),\n",
       " (48,),\n",
       " array(['Iris-virginica', 'Iris-versicolor', 'Iris-setosa'], dtype=object))"
      ]
     },
     "execution_count": 15,
     "metadata": {},
     "output_type": "execute_result"
    }
   ],
   "source": [
    "# Some debugging information\n",
    "X_train.shape, y_train.shape, X_test.shape, y_test.shape, y_train.unique()"
   ]
  },
  {
   "cell_type": "code",
   "execution_count": 17,
   "metadata": {
    "colab": {},
    "colab_type": "code",
    "id": "CTunpogXMv1S",
    "scrolled": true
   },
   "outputs": [
    {
     "data": {
      "text/html": [
       "<div>\n",
       "<style scoped>\n",
       "    .dataframe tbody tr th:only-of-type {\n",
       "        vertical-align: middle;\n",
       "    }\n",
       "\n",
       "    .dataframe tbody tr th {\n",
       "        vertical-align: top;\n",
       "    }\n",
       "\n",
       "    .dataframe thead th {\n",
       "        text-align: right;\n",
       "    }\n",
       "</style>\n",
       "<table border=\"1\" class=\"dataframe\">\n",
       "  <thead>\n",
       "    <tr style=\"text-align: right;\">\n",
       "      <th></th>\n",
       "      <th>petal_length</th>\n",
       "      <th>petal_width</th>\n",
       "    </tr>\n",
       "  </thead>\n",
       "  <tbody>\n",
       "    <tr>\n",
       "      <th>142</th>\n",
       "      <td>5.1</td>\n",
       "      <td>1.9</td>\n",
       "    </tr>\n",
       "    <tr>\n",
       "      <th>84</th>\n",
       "      <td>4.5</td>\n",
       "      <td>1.5</td>\n",
       "    </tr>\n",
       "    <tr>\n",
       "      <th>45</th>\n",
       "      <td>1.4</td>\n",
       "      <td>0.3</td>\n",
       "    </tr>\n",
       "    <tr>\n",
       "      <th>35</th>\n",
       "      <td>1.2</td>\n",
       "      <td>0.2</td>\n",
       "    </tr>\n",
       "    <tr>\n",
       "      <th>101</th>\n",
       "      <td>5.1</td>\n",
       "      <td>1.9</td>\n",
       "    </tr>\n",
       "  </tbody>\n",
       "</table>\n",
       "</div>"
      ],
      "text/plain": [
       "     petal_length  petal_width\n",
       "142           5.1          1.9\n",
       "84            4.5          1.5\n",
       "45            1.4          0.3\n",
       "35            1.2          0.2\n",
       "101           5.1          1.9"
      ]
     },
     "execution_count": 17,
     "metadata": {},
     "output_type": "execute_result"
    }
   ],
   "source": [
    "train_df[['petal_length', 'petal_width']].head()"
   ]
  },
  {
   "cell_type": "code",
   "execution_count": 18,
   "metadata": {
    "colab": {},
    "colab_type": "code",
    "id": "fhoal5M0Mv1W"
   },
   "outputs": [
    {
     "data": {
      "text/plain": [
       "array([[5.1, 1.9],\n",
       "       [4.5, 1.5],\n",
       "       [1.4, 0.3],\n",
       "       [1.2, 0.2],\n",
       "       [5.1, 1.9]])"
      ]
     },
     "execution_count": 18,
     "metadata": {},
     "output_type": "execute_result"
    }
   ],
   "source": [
    "# this is how 5 the training record looks now\n",
    "X_train[0:5]"
   ]
  },
  {
   "cell_type": "markdown",
   "metadata": {
    "colab_type": "text",
    "id": "p6XOrlDwMv1b"
   },
   "source": [
    "## conversion to numpy looks good\n",
    "\n",
    "<font color = 'red'> Make sure pandas train_df and X_train agree on values  </font>"
   ]
  },
  {
   "cell_type": "markdown",
   "metadata": {
    "colab_type": "text",
    "id": "iNg5vtsIMv1c"
   },
   "source": [
    "For convenience let's convert these string labels to integers\n",
    "    "
   ]
  },
  {
   "cell_type": "code",
   "execution_count": 19,
   "metadata": {
    "colab": {},
    "colab_type": "code",
    "id": "fQx1EDvIMv1d"
   },
   "outputs": [
    {
     "data": {
      "text/plain": [
       "142     Iris-virginica\n",
       "84     Iris-versicolor\n",
       "45         Iris-setosa\n",
       "35         Iris-setosa\n",
       "101     Iris-virginica\n",
       "Name: class, dtype: object"
      ]
     },
     "execution_count": 19,
     "metadata": {},
     "output_type": "execute_result"
    }
   ],
   "source": [
    "# before mapping\n",
    "y_train.head()"
   ]
  },
  {
   "cell_type": "markdown",
   "metadata": {
    "colab_type": "text",
    "id": "Xd2Y_vpHMv1i"
   },
   "source": [
    "# Mapping class labels to integer in pandas"
   ]
  },
  {
   "cell_type": "code",
   "execution_count": 20,
   "metadata": {
    "colab": {},
    "colab_type": "code",
    "id": "oDIz4pA3Mv1j"
   },
   "outputs": [
    {
     "data": {
      "text/plain": [
       "{'Iris-virginica': 0, 'Iris-versicolor': 1, 'Iris-setosa': 2}"
      ]
     },
     "execution_count": 20,
     "metadata": {},
     "output_type": "execute_result"
    }
   ],
   "source": [
    "# creating dictionary of mapping\n",
    "mapping = {v:k for k, v in enumerate(y_train.unique())}\n",
    "mapping"
   ]
  },
  {
   "cell_type": "code",
   "execution_count": 21,
   "metadata": {
    "colab": {},
    "colab_type": "code",
    "id": "auHoEPL9Mv1m"
   },
   "outputs": [],
   "source": [
    "# after mapping\n",
    "y_train = y_train.map(mapping)\n",
    "y_train = y_train.values"
   ]
  },
  {
   "cell_type": "code",
   "execution_count": 22,
   "metadata": {
    "colab": {},
    "colab_type": "code",
    "id": "3zbNQlGNMv1o"
   },
   "outputs": [
    {
     "data": {
      "text/plain": [
       "array([0, 1, 2, 2, 0, 1, 1, 2, 0, 2, 0, 1, 2, 2, 0, 1, 2, 2, 1, 0, 0, 2,\n",
       "       0, 1, 2, 2, 0, 0, 0, 1, 1, 1, 2, 2, 0, 0, 1, 0, 1, 0, 2, 0, 2, 1,\n",
       "       1, 0, 0, 2, 1, 2, 1, 1, 1, 2, 0, 2, 0, 1, 0, 1, 0, 1, 2, 0, 1, 0,\n",
       "       1, 2, 1, 0, 2, 1, 2, 2, 2, 1, 0, 2, 2, 0, 2, 1, 0, 1, 0, 0, 1, 1,\n",
       "       0, 1, 2, 1, 1, 2, 1, 0, 0, 0, 2, 2, 0, 0], dtype=int64)"
      ]
     },
     "execution_count": 22,
     "metadata": {},
     "output_type": "execute_result"
    }
   ],
   "source": [
    "y_train"
   ]
  },
  {
   "cell_type": "code",
   "execution_count": 23,
   "metadata": {
    "colab": {},
    "colab_type": "code",
    "id": "WSrlRgThMv1q"
   },
   "outputs": [
    {
     "data": {
      "text/plain": [
       "array([2, 2, 2, 2, 2, 0, 1, 2, 0, 1, 1, 2, 1, 1, 0, 2, 1, 0, 0, 2, 0, 0,\n",
       "       0, 1, 2, 0, 0, 1, 1, 1, 2, 2, 0, 1, 2, 2, 1, 2, 0, 1, 0, 1, 2, 2,\n",
       "       0, 1, 2, 1], dtype=int64)"
      ]
     },
     "execution_count": 23,
     "metadata": {},
     "output_type": "execute_result"
    }
   ],
   "source": [
    "# let's do same of test label\n",
    "y_test = y_test.map(mapping).values\n",
    "y_test"
   ]
  },
  {
   "cell_type": "markdown",
   "metadata": {
    "colab_type": "text",
    "id": "NfJ0bhOgMv1t"
   },
   "source": [
    "# QDA steps\n",
    "- Let's fit(learn mean and covariance matrix) 2D gaussian to joint distribution of (petal_length, petal_width) for different flower category\n",
    "- Once we have learned per class mean and covariance matrix, we can build discriminant function for discriminating(classifying) future iris flowers"
   ]
  },
  {
   "cell_type": "markdown",
   "metadata": {
    "colab_type": "text",
    "id": "OOiPTM0FMv1u"
   },
   "source": [
    "# From MLE estimate per class mean is empirical mean and covariance matrix is empirical covariance matrix\n",
    "<font size = 7>\n",
    "$\\mathbf{\\mu_c} = \\sum_{i=1; y_i = c}^{N} \\frac{\\mathbf{x_i}}{\\#I(y_i ==c)}$ \n",
    "\n",
    "$\\Sigma_c = \\sum_{i=1; y_i =c}^{N} \\frac{\\mathbf{(x_i -\\mu_c) (x_i -\\mu_c)^{T}}}{\\#I(y_i ==c)}$\n",
    "\n",
    "<br>\n",
    "$\\pi_c = \\frac{N_c}{N}$ where $N_c$ is number of example in class $c$ and $N$ total number of example.\n",
    "\n",
    "</font>"
   ]
  },
  {
   "cell_type": "code",
   "execution_count": 24,
   "metadata": {},
   "outputs": [
    {
     "data": {
      "text/plain": [
       "36"
      ]
     },
     "execution_count": 24,
     "metadata": {},
     "output_type": "execute_result"
    }
   ],
   "source": [
    "X_c = X_train[y_train == 0]\n",
    "len(X_c)"
   ]
  },
  {
   "cell_type": "markdown",
   "metadata": {
    "colab_type": "text",
    "id": "AH9pqngwMv1y"
   },
   "source": [
    "# Calculating the mean, inverse of covariance matrix and class prior\n",
    "we are storing inverse of covariance matrix as we need inverse matrix in discriminant function"
   ]
  },
  {
   "cell_type": "code",
   "execution_count": 25,
   "metadata": {
    "colab": {},
    "colab_type": "code",
    "id": "dQQECDJYMv11"
   },
   "outputs": [],
   "source": [
    "per_class_mean_vector = []\n",
    "per_class_covariance_matrix = []\n",
    "per_class_prior = []\n",
    "for cls_idx in mapping.values():\n",
    "    #calculate cls_idx mean and covariance for each class data\n",
    "    X_c = X_train[y_train == cls_idx]\n",
    "    cls_prior = X_c.shape[0]/y_train.shape[0]\n",
    "    cls_mean = sum(X_c)/X_c.shape[0]\n",
    "    cls_cov = np.dot(np.transpose(X_c-cls_mean),(X_c-cls_mean))/X_c.shape[0]\n",
    "    per_class_mean_vector.append(cls_mean)\n",
    "    # Let's store inv as we will see later\n",
    "    # to take a inverse we need to use linalg from numpy\n",
    "    per_class_covariance_matrix.append(np.linalg.inv(cls_cov))\n",
    "    per_class_prior.append(cls_prior)\n",
    "    \n"
   ]
  },
  {
   "cell_type": "markdown",
   "metadata": {
    "colab_type": "text",
    "id": "bhymICkOMv14"
   },
   "source": [
    "# Checking  parameters correctness before we jump into coding discriminant function."
   ]
  },
  {
   "cell_type": "code",
   "execution_count": 26,
   "metadata": {
    "colab": {},
    "colab_type": "code",
    "id": "oV_KfxxjMv15"
   },
   "outputs": [
    {
     "data": {
      "text/plain": [
       "[0.35294117647058826, 0.3333333333333333, 0.3137254901960784]"
      ]
     },
     "execution_count": 26,
     "metadata": {},
     "output_type": "execute_result"
    }
   ],
   "source": [
    "per_class_prior"
   ]
  },
  {
   "cell_type": "code",
   "execution_count": 27,
   "metadata": {
    "colab": {},
    "colab_type": "code",
    "id": "CN7z-iT0Mv2A"
   },
   "outputs": [
    {
     "data": {
      "text/plain": [
       "class\n",
       "Iris-setosa        32\n",
       "Iris-versicolor    34\n",
       "Iris-virginica     36\n",
       "Name: class, dtype: int64"
      ]
     },
     "execution_count": 27,
     "metadata": {},
     "output_type": "execute_result"
    }
   ],
   "source": [
    "train_df.groupby('class')['class'].count()"
   ]
  },
  {
   "cell_type": "markdown",
   "metadata": {
    "colab_type": "text",
    "id": "b2zzvJXcMv2G"
   },
   "source": [
    "<font size =5 color=\"red\"> Make sure per_class_prior output and relative frequency matches. In general it is good habit to keep checking your calculation/code. It can save us a lot of time and trouble. </font>"
   ]
  },
  {
   "cell_type": "markdown",
   "metadata": {
    "colab_type": "text",
    "id": "sln8KqNzMv2H"
   },
   "source": [
    "# We want to classify(discriminate) example in test set i.e we want to evaluate probablity $P(y=c|x_{test})$, This is our discriminant function.\n",
    "<font size = 5>\n",
    "$P(y=c|x_{test}) = \\frac{P(x_{test}|y=c) P(y=c)}{P(x_{test})}$\n",
    "</font>\n",
    "\n",
    "- For each class discriminant function scaling by same value, adding a constant or taking log doesn't matter.\n",
    "- On right hand side, we have modelled $P(x_{test}|y=c)$ with 2 -d gaussian density and have already estimated its paramters(mean, covariane) for each class using MLE\n",
    "\n",
    "# After some algebraic simplification,  D=2 quadratic discriminant function for $\\mathbf{x} \\in \\mathbb{R}^2$ will look like\n",
    "<font size = 5>\n",
    "\n",
    "$g(\\mathbf{x}) = -(x- \\mu_c)^T \\Sigma_C^{-1}( x- \\mu_c) + \\log (det(\\Sigma_c^{-1})) + \\log \\pi_c $\n",
    "\n",
    "</font>"
   ]
  },
  {
   "cell_type": "markdown",
   "metadata": {
    "colab_type": "text",
    "id": "lXtXUkddMv2I"
   },
   "source": [
    "# Coding discriminant function  which takes class mean , covariance matrix, class prior and a test example and outputs the value of discriminant function\n",
    " \n",
    "We will use this discriminant function for predicting class label on test sample. We will compare predicted label with test sample label to see how well we did?"
   ]
  },
  {
   "cell_type": "code",
   "execution_count": 28,
   "metadata": {
    "colab": {},
    "colab_type": "code",
    "id": "pq9OKHQdMv2K"
   },
   "outputs": [],
   "source": [
    "def discriminant(mean, cov_inv,prior, x):\n",
    "    \n",
    "    score =  -np.dot(np.dot(np.transpose(x-mean),cov_inv),(x-mean))+np.log(np.linalg.det(cov_inv))+np.log(prior)\n",
    "    return score"
   ]
  },
  {
   "cell_type": "code",
   "execution_count": 29,
   "metadata": {
    "colab": {},
    "colab_type": "code",
    "id": "s-nBWXr5Mv2Q"
   },
   "outputs": [
    {
     "data": {
      "text/plain": [
       "(48, 3)"
      ]
     },
     "execution_count": 29,
     "metadata": {},
     "output_type": "execute_result"
    }
   ],
   "source": [
    "# for each example let's calculate this score and store in numpy array\n",
    "\n",
    "score_mat = np.zeros((len(X_test), len(mapping)))\n",
    "score_mat.shape"
   ]
  },
  {
   "cell_type": "code",
   "execution_count": 30,
   "metadata": {
    "colab": {},
    "colab_type": "code",
    "id": "6xtdDblkMv2Y"
   },
   "outputs": [],
   "source": [
    "for idx, test_example in enumerate(X_test):\n",
    "    for cls, (mean, cov_inv, prior) in enumerate(zip(per_class_mean_vector, per_class_covariance_matrix, per_class_prior)):\n",
    "        score_mat[idx][cls] = discriminant(mean, cov_inv, prior, test_example)"
   ]
  },
  {
   "cell_type": "markdown",
   "metadata": {
    "colab_type": "text",
    "id": "dl_S3WYIMv2b"
   },
   "source": [
    "# based on these discriminant values lets try to predict class labels\n",
    "The way we build mapping and stored the score, indices 0,1,2 encode class label for different flowers"
   ]
  },
  {
   "cell_type": "code",
   "execution_count": 31,
   "metadata": {
    "colab": {},
    "colab_type": "code",
    "id": "4RMmblZ0Mv2b"
   },
   "outputs": [
    {
     "data": {
      "text/plain": [
       "0.9791666666666666"
      ]
     },
     "execution_count": 31,
     "metadata": {},
     "output_type": "execute_result"
    }
   ],
   "source": [
    "predicted_label = np.argmax(score_mat, axis=1)\n",
    "# hence accuracy is\n",
    "np.mean(predicted_label == y_test)"
   ]
  },
  {
   "cell_type": "code",
   "execution_count": 32,
   "metadata": {
    "colab": {},
    "colab_type": "code",
    "id": "8lhvak6ZMv2e"
   },
   "outputs": [],
   "source": [
    "class quadratic_discriminant_analysis(object):\n",
    "    \n",
    "    def __init__(self, prior = None):\n",
    "        self._prior = prior\n",
    "        self.per_class_mean_vector = []\n",
    "        self.per_class_covariance_matrix = []\n",
    "        self.per_class_prior = []\n",
    "        self.mapping=[]\n",
    "    def fit(self, X, y):\n",
    "        \n",
    "        self.mapping = np.unique(y)\n",
    "        for cls_idx in self.mapping:\n",
    "            X_c = X[y == cls_idx]\n",
    "            cls_prior = X_c.shape[0]/y_train.shape[0]\n",
    "            cls_mean = sum(X_c)/X_c.shape[0]\n",
    "            cls_cov = np.dot(np.transpose(X_c-cls_mean),(X_c-cls_mean))/X_c.shape[0]\n",
    "            self.per_class_mean_vector.append(cls_mean)\n",
    "            self.per_class_covariance_matrix.append(np.linalg.inv(cls_cov))\n",
    "            self.per_class_prior.append(cls_prior)\n",
    "        \n",
    "    def _discriminant(self, mean, cov_inv,prior, x):\n",
    "\n",
    "        return -np.dot(np.dot(np.transpose(x-mean),cov_inv),(x-mean))+np.log(np.linalg.det(cov_inv))+np.log(prior)\n",
    "    \n",
    "    def score(self, X, y):\n",
    "\n",
    "        score_mat = np.zeros((len(X), len(self.mapping)))\n",
    "        for idx, test_example in enumerate(X):\n",
    "            for cls, (mean, cov_inv, prior) in enumerate(zip(self.per_class_mean_vector, self.per_class_covariance_matrix, self.per_class_prior)):\n",
    "                score_mat[idx][cls] = discriminant(mean, cov_inv, prior, test_example)\n",
    "        predicted_label = np.argmax(score_mat, axis=1)\n",
    "        return np.mean(predicted_label == y)\n",
    "        \n",
    "        "
   ]
  },
  {
   "cell_type": "code",
   "execution_count": 33,
   "metadata": {
    "colab": {},
    "colab_type": "code",
    "id": "wJOjvnHmMv2g"
   },
   "outputs": [
    {
     "name": "stdout",
     "output_type": "stream",
     "text": [
      "Accuracy :  0.9791666666666666\n"
     ]
    }
   ],
   "source": [
    "obj = quadratic_discriminant_analysis()\n",
    "obj.fit(X_train, y_train)\n",
    "Score = obj.score(X_test, y_test)\n",
    "print(\"Accuracy : \",Score)"
   ]
  },
  {
   "cell_type": "markdown",
   "metadata": {
    "colab_type": "text",
    "id": "fG5RaLLiMv2k"
   },
   "source": [
    "# Fitting the QDA using QuadraticDiscriminantAnalysis from sklearn and report accuracy on the test set.\n"
   ]
  },
  {
   "cell_type": "code",
   "execution_count": 34,
   "metadata": {
    "colab": {},
    "colab_type": "code",
    "id": "uB5o_kyeMv2n"
   },
   "outputs": [
    {
     "name": "stdout",
     "output_type": "stream",
     "text": [
      "Accuracy :  0.9791666666666666\n"
     ]
    }
   ],
   "source": [
    "from sklearn.discriminant_analysis import QuadraticDiscriminantAnalysis\n",
    "model = QuadraticDiscriminantAnalysis()\n",
    "model.fit(X_train,y_train)\n",
    "ypred = model.predict(X_test)\n",
    "Accuracy = np.sum(ypred == y_test) / len(y_test)\n",
    "print(\"Accuracy : \", Accuracy)"
   ]
  },
  {
   "cell_type": "markdown",
   "metadata": {},
   "source": [
    "## Note we have successfully matched sklearn accuracy"
   ]
  },
  {
   "cell_type": "markdown",
   "metadata": {
    "colab_type": "text",
    "id": "NWc86ft-Mv2r"
   },
   "source": [
    "# Let's fit a LinearDiscriminantAnalysis and report accuracy on test set."
   ]
  },
  {
   "cell_type": "code",
   "execution_count": 35,
   "metadata": {
    "colab": {},
    "colab_type": "code",
    "id": "e6tcHRycMv2x"
   },
   "outputs": [
    {
     "name": "stdout",
     "output_type": "stream",
     "text": [
      "Accuracy :  0.9583333333333334\n"
     ]
    }
   ],
   "source": [
    "from sklearn.discriminant_analysis import LinearDiscriminantAnalysis\n",
    "model_linear = LinearDiscriminantAnalysis()\n",
    "model_linear.fit(X_train,y_train)\n",
    "ypred = model_linear.predict(X_test)\n",
    "Accuracy = np.sum(ypred == y_test) / len(y_test)\n",
    "print(\"Accuracy : \", Accuracy)"
   ]
  },
  {
   "cell_type": "markdown",
   "metadata": {
    "colab_type": "text",
    "id": "jWa9UpEfMv29"
   },
   "source": [
    "# Side note: One check various parameters learned by QuadraticDiscriminantAnalysis. Let check mean and our mean vector. They must match"
   ]
  },
  {
   "cell_type": "code",
   "execution_count": 36,
   "metadata": {
    "colab": {},
    "colab_type": "code",
    "id": "pA4PuVMqMv3B"
   },
   "outputs": [
    {
     "data": {
      "text/plain": [
       "array([[5.55833333, 2.01388889],\n",
       "       [4.20882353, 1.31176471],\n",
       "       [1.478125  , 0.228125  ]])"
      ]
     },
     "execution_count": 36,
     "metadata": {},
     "output_type": "execute_result"
    }
   ],
   "source": [
    "model.means_"
   ]
  },
  {
   "cell_type": "code",
   "execution_count": 37,
   "metadata": {
    "colab": {},
    "colab_type": "code",
    "id": "LLL0dWzNMv3L"
   },
   "outputs": [
    {
     "data": {
      "text/plain": [
       "[array([5.55833333, 2.01388889]),\n",
       " array([4.20882353, 1.31176471]),\n",
       " array([1.478125, 0.228125])]"
      ]
     },
     "execution_count": 37,
     "metadata": {},
     "output_type": "execute_result"
    }
   ],
   "source": [
    "per_class_mean_vector"
   ]
  },
  {
   "cell_type": "code",
   "execution_count": 38,
   "metadata": {
    "colab": {},
    "colab_type": "code",
    "id": "6mM1SFDVMv3M"
   },
   "outputs": [
    {
     "name": "stdout",
     "output_type": "stream",
     "text": [
      "Two mean vectors are same.\n"
     ]
    }
   ],
   "source": [
    "if(np.array_equal(model.means_,per_class_mean_vector)):\n",
    "    print(\"Two mean vectors are same.\")\n",
    "else:\n",
    "    print(\"wrong.\")"
   ]
  }
 ],
 "metadata": {
  "colab": {
   "name": "QDA.ipynb",
   "provenance": [],
   "version": "0.3.2"
  },
  "kernelspec": {
   "display_name": "Python 3",
   "language": "python",
   "name": "python3"
  },
  "language_info": {
   "codemirror_mode": {
    "name": "ipython",
    "version": 3
   },
   "file_extension": ".py",
   "mimetype": "text/x-python",
   "name": "python",
   "nbconvert_exporter": "python",
   "pygments_lexer": "ipython3",
   "version": "3.7.3"
  },
  "toc": {
   "base_numbering": 1,
   "nav_menu": {},
   "number_sections": false,
   "sideBar": true,
   "skip_h1_title": false,
   "title_cell": "Table of Contents",
   "title_sidebar": "Contents",
   "toc_cell": false,
   "toc_position": {},
   "toc_section_display": true,
   "toc_window_display": false
  },
  "varInspector": {
   "cols": {
    "lenName": 16,
    "lenType": 16,
    "lenVar": 40
   },
   "kernels_config": {
    "python": {
     "delete_cmd_postfix": "",
     "delete_cmd_prefix": "del ",
     "library": "var_list.py",
     "varRefreshCmd": "print(var_dic_list())"
    },
    "r": {
     "delete_cmd_postfix": ") ",
     "delete_cmd_prefix": "rm(",
     "library": "var_list.r",
     "varRefreshCmd": "cat(var_dic_list()) "
    }
   },
   "types_to_exclude": [
    "module",
    "function",
    "builtin_function_or_method",
    "instance",
    "_Feature"
   ],
   "window_display": false
  }
 },
 "nbformat": 4,
 "nbformat_minor": 1
}
